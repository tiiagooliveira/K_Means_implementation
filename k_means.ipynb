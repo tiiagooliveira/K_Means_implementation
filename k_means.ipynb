{
  "nbformat": 4,
  "nbformat_minor": 0,
  "metadata": {
    "colab": {
      "name": "k_means.ipynb",
      "provenance": [],
      "collapsed_sections": []
    },
    "kernelspec": {
      "name": "python3",
      "display_name": "Python 3"
    }
  },
  "cells": [
    {
      "cell_type": "code",
      "metadata": {
        "id": "mEBLw_rHgaqU",
        "colab_type": "code",
        "colab": {}
      },
      "source": [
        "import numpy as np \n",
        "import random\n",
        "import math\n",
        "import matplotlib.pyplot as plt\n",
        "from sklearn.cluster import KMeans\n",
        "from sklearn.datasets import make_blobs\n",
        "from copy import deepcopy \n",
        "from random import seed"
      ],
      "execution_count": 0,
      "outputs": []
    },
    {
      "cell_type": "code",
      "metadata": {
        "id": "eapsSwyaIOs5",
        "colab_type": "code",
        "colab": {}
      },
      "source": [
        "class K_Means():\n",
        "  \n",
        "  \"\"\"K_Means clustering object\n",
        "    \n",
        "    Attributes: \n",
        "    \n",
        "      n_clusters: The number of clusters and centroids.\n",
        "      \n",
        "      self.max_iter: Maximum number of iterations of the k-means algorithm for a single run.\n",
        "      \n",
        "      random_state: Random number generation for centroid initialization.\n",
        "      \n",
        "      tol: Allowed error to declare convergence.\n",
        "      \n",
        "      labels: Labels of each point\n",
        "      \n",
        "      cluster_centers: Coordinates of cluster centers.\n",
        "       \n",
        "   \"\"\"\n",
        "  \n",
        "  def __init__(self,n_clusters=2,max_iter=1000,random_state=None,tol=0.0001):\n",
        "   \n",
        "    \"\"\"Initialize K_Means object\n",
        "    \n",
        "    Parameters: \n",
        "    \n",
        "      n_clusters: int, optional, default: 8\n",
        "      \n",
        "        The number of clusters to form as well as the number of centroids to generate.\n",
        "    \n",
        "      max_iter:  int, default: 300\n",
        "         \n",
        "         Maximum number of iterations of the k-means algorithm for a single run.\n",
        "    \n",
        "      random_state: int or None (default)\n",
        "    \n",
        "        Determines random number generation for centroid initialization.\n",
        "      \n",
        "      tol: float, default: 1e-4\n",
        "    \n",
        "        Allowed error to declare convergence.\n",
        "       \n",
        "    \"\"\"\n",
        "    \n",
        "    self.n_clusters= n_clusters\n",
        "    self.max_iter= max_iter\n",
        "    self.random_state=random_state\n",
        "    self.tol=tol\n",
        "    self.labels=None\n",
        "    self.cluster_centers=None\n",
        "  \n",
        "  def fit(self,x):\n",
        "    \n",
        "    \"\"\"Fit K_Means to x to calculate cluster centroids and cluster membership.\n",
        "    \n",
        "    Parameters:\n",
        "     \n",
        "      x: numpy array\n",
        "      \n",
        "        Numpy array containing data points  \n",
        "    \n",
        "    \"\"\"\n",
        "    \n",
        "    random.seed(self.random_state)\n",
        "    converged = False \n",
        "    \n",
        "    distances = np.zeros((x.shape[0],self.n_clusters))\n",
        "    centroids=x[random.sample(list(range(x.shape[0])),self.n_clusters)]\n",
        "    \n",
        "    i=0\n",
        "    \n",
        "    while i in range(self.max_iter) and converged==False:  \n",
        "      \n",
        "      for j in range(self.n_clusters):  \n",
        "        distances[:,j] = np.sqrt(np.sum((x-centroids[j])**2,axis=1))\n",
        "          \n",
        "      membership= np.argmin(distances,axis=1)  \n",
        "      \n",
        "      previous_centroids=deepcopy(centroids)\n",
        "        \n",
        "      for m in range(self.n_clusters):\n",
        "        centroids[m]= np.mean(np.take(x,np.where(membership==m),axis=0),axis=1)\n",
        "                \n",
        "      centroid_difference =np.linalg.norm(centroids - previous_centroids)\n",
        "      #print(centroid_difference)\n",
        "      #print(converged)\n",
        " \n",
        "      if centroid_difference <= self.tol:\n",
        "          converged=True\n",
        "     \n",
        "      i+=1\n",
        "        \n",
        "    self.labels= membership\n",
        "    self.cluster_centers=centroids  "
      ],
      "execution_count": 0,
      "outputs": []
    },
    {
      "cell_type": "code",
      "metadata": {
        "id": "0z4jYGPp0FEy",
        "colab_type": "code",
        "colab": {}
      },
      "source": [
        "def visualize_clusters(x,kmeans):\n",
        "  \n",
        "  \"\"\"Function to visualize clusters and respective cluster centers\n",
        "  \n",
        "  Parameters:\n",
        "  \n",
        "    x: numpy array \n",
        "    \n",
        "      Numpy array containing data points\n",
        "      \n",
        "    kmeans: K_Means\n",
        "    \n",
        "      K_Means object fitted to x.\n",
        "  \n",
        "  \"\"\"\n",
        "  \n",
        "  labels=kmeans.labels\n",
        "  cluster_centers=kmeans.cluster_centers\n",
        "  \n",
        "  plt.scatter(x[:,0],x[:,1],c=labels,cmap='viridis')\n",
        "  plt.scatter(cluster_centers[:,0],cluster_centers[:,1], c='black',alpha=0.5,s=100)\n",
        "  plt.title('K-Means clustering')\n",
        "  \n",
        "  for id,centroid in enumerate(cluster_centers):\n",
        "    \n",
        "    plt.annotate(id,centroid,textcoords=\"offset pixels\",xytext=(0,6),ha='center')\n",
        "    \n",
        "    "
      ],
      "execution_count": 0,
      "outputs": []
    },
    {
      "cell_type": "code",
      "metadata": {
        "id": "oGA6zAB0NReJ",
        "colab_type": "code",
        "outputId": "355cd378-a131-4798-c4cd-6c94caba066c",
        "colab": {
          "base_uri": "https://localhost:8080/",
          "height": 119
        }
      },
      "source": [
        "# Test code: create 100 artificial data points with 2 features and 4 centers \n",
        "x, y  = make_blobs(n_samples=100, centers=4, n_features=2,random_state=0)\n",
        "\n",
        "print('Number of points in test data:',x.shape[0])\n",
        "print('Number of clusters:',y.shape[0])\n",
        "print('Expected cluster membership:')\n",
        "print(y)"
      ],
      "execution_count": 178,
      "outputs": [
        {
          "output_type": "stream",
          "text": [
            "Number of points in test data: 100\n",
            "Number of clusters: 100\n",
            "Expected cluster membership:\n",
            "[0 3 0 0 0 0 2 3 0 3 3 3 3 3 3 1 1 2 2 1 0 3 2 1 0 2 2 0 1 1 1 3 1 1 2 0 3\n",
            " 1 3 2 0 2 3 2 2 3 1 2 0 0 0 1 2 2 2 3 3 1 1 3 3 1 1 0 1 3 2 2 1 0 3 1 0 3\n",
            " 0 0 2 2 1 1 1 3 2 0 1 2 1 1 0 0 0 2 0 2 2 3 3 2 3 0]\n"
          ],
          "name": "stdout"
        }
      ]
    },
    {
      "cell_type": "code",
      "metadata": {
        "id": "wAYMqBdP8Jyk",
        "colab_type": "code",
        "colab": {
          "base_uri": "https://localhost:8080/",
          "height": 170
        },
        "outputId": "bfdc40e2-35d2-4e37-90c6-3492b0af1747"
      },
      "source": [
        "# Test code: result of scikit-learn KMeans with random initilization of centroids for x\n",
        "kmeans1 = KMeans(n_clusters=4, init='random',max_iter=300,random_state=0, tol=0.0001)\n",
        "kmeans1.fit(x)\n",
        "print('Cluster membership determined by Scikit-Learn K-Means:')\n",
        "print(kmeans1.labels_)\n",
        "print('Cluster centroids determined by Scikit-Learn K-Means:')\n",
        "print(kmeans1.cluster_centers_)"
      ],
      "execution_count": 179,
      "outputs": [
        {
          "output_type": "stream",
          "text": [
            "Cluster membership determined by Scikit-Learn K-Means:\n",
            "[2 3 2 2 2 2 0 3 3 3 3 3 3 3 3 1 2 2 0 1 1 3 0 1 2 0 2 2 1 1 1 3 1 1 0 2 3\n",
            " 1 3 0 2 0 3 0 0 3 1 0 2 0 2 1 0 0 0 3 3 1 1 3 3 1 1 2 1 3 0 0 1 2 3 1 2 3\n",
            " 2 2 2 0 1 1 1 3 0 0 1 0 1 1 2 2 2 0 0 0 0 3 3 0 3 0]\n",
            "Cluster centroids determined by Scikit-Learn K-Means:\n",
            "[[-1.52255073  3.2723815 ]\n",
            " [ 2.02302576  1.03388323]\n",
            " [ 1.04520307  4.3569559 ]\n",
            " [-1.26651816  7.6368152 ]]\n"
          ],
          "name": "stdout"
        }
      ]
    },
    {
      "cell_type": "markdown",
      "metadata": {
        "id": "XMciJ2WvdvOX",
        "colab_type": "text"
      },
      "source": [
        "The cluster memberships produced by  Scikit-Learn K-Means differ slightly from those generated for the artificial data. This is expected given the random initializaion of centroids, which may lead the algorithm to get stuck in a local optimum. "
      ]
    },
    {
      "cell_type": "code",
      "metadata": {
        "colab_type": "code",
        "outputId": "fdc7b739-064a-4b3f-c5c1-3b3ffdb17192",
        "id": "bYKLCf0hdqXq",
        "colab": {
          "base_uri": "https://localhost:8080/",
          "height": 170
        }
      },
      "source": [
        "# Test code: result of implemented K_Means with random initilization of centroids for x\n",
        "kmeans2 = K_Means(n_clusters=4,max_iter=300,random_state=0, tol=0.0001)\n",
        "kmeans2.fit(x)\n",
        "\n",
        "print('Cluster membership determined by implemented K-Means:')\n",
        "print(kmeans2.labels)\n",
        "print('Cluster centroids determined by implemented K-Means:')\n",
        "print(kmeans2.cluster_centers)"
      ],
      "execution_count": 180,
      "outputs": [
        {
          "output_type": "stream",
          "text": [
            "Cluster membership determined by implemented K-Means:\n",
            "[3 2 3 3 3 3 1 2 2 2 2 2 2 2 2 0 3 3 1 0 0 2 1 0 3 1 3 3 0 0 0 2 0 0 1 3 2\n",
            " 0 2 1 3 1 2 1 1 2 0 1 3 1 3 0 1 1 1 2 2 0 0 2 2 0 0 3 0 2 1 1 0 3 2 0 3 2\n",
            " 3 3 3 1 0 0 0 2 1 1 0 1 0 0 3 3 3 1 1 1 1 2 2 1 2 1]\n",
            "Cluster centroids determined by implemented K-Means:\n",
            "[[ 2.02302576  1.03388323]\n",
            " [-1.52255073  3.2723815 ]\n",
            " [-1.26651816  7.6368152 ]\n",
            " [ 1.04520307  4.3569559 ]]\n"
          ],
          "name": "stdout"
        }
      ]
    },
    {
      "cell_type": "markdown",
      "metadata": {
        "id": "UXjv2TUJgvAA",
        "colab_type": "text"
      },
      "source": [
        "Cluster cluster centroids and cluster memberships produced by the K_Means implementation are the same as those produced by Scikit-Learn K-Means, but cluster ids are different.\n"
      ]
    },
    {
      "cell_type": "code",
      "metadata": {
        "id": "UNsAmPJe60Hb",
        "colab_type": "code",
        "colab": {
          "base_uri": "https://localhost:8080/",
          "height": 281
        },
        "outputId": "cf1ead17-b002-4ccd-fbe2-0009632c695e"
      },
      "source": [
        "# Test code: visualization of the clusters for x\n",
        "visualize_clusters(x,kmeans2)"
      ],
      "execution_count": 181,
      "outputs": [
        {
          "output_type": "display_data",
          "data": {
            "image/png": "[encoded data removed]",
            "text/plain": [
              "<Figure size 432x288 with 1 Axes>"
            ]
          },
          "metadata": {
            "tags": []
          }
        }
      ]
    }
  ]
}